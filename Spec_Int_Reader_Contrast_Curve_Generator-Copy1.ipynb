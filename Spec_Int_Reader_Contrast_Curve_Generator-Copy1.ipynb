{
 "cells": [
  {
   "cell_type": "code",
   "execution_count": 1,
   "id": "b31f7d08",
   "metadata": {},
   "outputs": [],
   "source": [
    "from scipy.ndimage import gaussian_filter\n",
    "import numpy  as np\n",
    "import matplotlib.pyplot as plt\n",
    "import time\n",
    "from utils import *\n",
    "import copy\n",
    "from hcipy import *\n",
    "import os.path\n",
    "import csv\n",
    "from astropy.io import fits\n",
    "from processing import *\n",
    "from IPython.lib.display import Audio\n",
    "import numpy as np\n",
    "\n",
    "%matplotlib inline"
   ]
  },
  {
   "cell_type": "markdown",
   "id": "046ab5ee",
   "metadata": {},
   "source": [
    "# Import Files"
   ]
  },
  {
   "cell_type": "markdown",
   "id": "9117d887",
   "metadata": {},
   "source": [
    "## Input File Names"
   ]
  },
  {
   "cell_type": "code",
   "execution_count": 5,
   "id": "24b9dd21",
   "metadata": {},
   "outputs": [],
   "source": [
    "saved_file_name = \"Viper_Speckle_Contrast_Mag_5_Band_I_02\"\n",
    "# Input the name of the fits files as a list of strings. Used for loading FITS data.\n",
    "fits_names = [#\"ProEM_Mag_5_Band_V.fits\",\n",
    "             # \"ProEM_Mag_12_5_Band_I.fits\",\n",
    "              #\"iXon_Mag_5_Band_V.fits\",\n",
    "              #\"iXon_Mag_12_5_Band_I.fits\"\n",
    "              #\"ORCA_Quest_Mag_5_Band_V.fits\",\n",
    "             # \"ORCA_Quest_Mag_12_5_Band_I.fits\"\n",
    "              #\"Kinetix_Mag_5_Band_V.fits\",\n",
    "             # \"Kinetix_Mag_12_5_Band_I.fits\",\n",
    "              \"Prime_BSI_Mag_5_Band_V.fits\",\n",
    "             # \"Prime_BSI_Mag_12_5_Band_I.fits\"\n",
    "              ] \n",
    "\n",
    "# Input the sigma for the contrast curves\n",
    "sigma = 5 "
   ]
  },
  {
   "cell_type": "markdown",
   "id": "ec7aabb2",
   "metadata": {},
   "source": [
    "## Load Fits Files"
   ]
  },
  {
   "cell_type": "code",
   "execution_count": 6,
   "id": "84eaded8",
   "metadata": {},
   "outputs": [],
   "source": [
    "fits_files = []\n",
    "for i in fits_names:\n",
    "    fits_files.append(fits.open(i))"
   ]
  },
  {
   "cell_type": "markdown",
   "id": "e0311a42",
   "metadata": {},
   "source": [
    "## Load Header Data"
   ]
  },
  {
   "cell_type": "code",
   "execution_count": 7,
   "id": "3bc5ead6",
   "metadata": {},
   "outputs": [],
   "source": [
    "wavelengths = []\n",
    "pupil_diameters = []\n",
    "mags = []\n",
    "qs = []\n",
    "shutters = []\n",
    "fpss = []\n",
    "read_noises = []\n",
    "dark_currents = []\n",
    "seeings = []\n",
    "outer_scales = []\n",
    "velocitys = []\n",
    "quantum_efficiencys = []\n",
    "exposure_times = []\n",
    "exposure_numbers = []\n",
    "filter_names=[]\n",
    "EM_gains = []\n",
    "EM_saturates = []\n",
    "full_well_depths = []\n",
    "for i in fits_files:\n",
    "    wavelength = i[0].header['Wavelnth']\n",
    "    wavelength = wavelength.split(' ')\n",
    "    wavelengths.append(float(wavelength[0]))\n",
    "    pupil_diameter = i[0].header['PUPDIAMT']\n",
    "    pupil_diameter = pupil_diameter.split(' ')\n",
    "    pupil_diameters.append(float(pupil_diameter[0]))\n",
    "    mag = i[0].header['PRIMAG']\n",
    "    mag = mag.split(' ')\n",
    "    mags.append(float(mag[0]))\n",
    "    q = i[0].header['Q']\n",
    "    q = q.split(' ')\n",
    "    qs.append(float(q[0]))\n",
    "    fps = i[0].header['FPS']\n",
    "    fps = fps.split(' ')\n",
    "    fpss.append(fps[0])\n",
    "    read_noise = i[0].header['RdNoise']\n",
    "    read_noise = read_noise.split(\" \")\n",
    "    read_noises.append(read_noise[0])\n",
    "    dark_current = i[0].header['DarkCurr']\n",
    "    dark_current = dark_current.split(\" \")\n",
    "    dark_currents.append(dark_current[0])\n",
    "    quantum_efficiency = i[0].header['QE']\n",
    "    quantum_efficiency = quantum_efficiency.split(\" \")\n",
    "    quantum_efficiencys.append(quantum_efficiency[0])\n",
    "    seeing = i[0].header['Seeing']\n",
    "    seeing = seeing.split(\" \")\n",
    "    seeings.append(seeing[0])\n",
    "    outer_scale = i[0].header['OutScale']\n",
    "    outer_scale = outer_scale.split(' ')\n",
    "    outer_scales.append(outer_scale[0])\n",
    "    velocity = i[0].header['Velocity']\n",
    "    velocity = velocity.split(' ')\n",
    "    velocitys.append(velocity[0])\n",
    "    exposure_time = i[0].header['ExpoTime']\n",
    "    exposure_time = exposure_time.split(\" \")\n",
    "    exposure_times.append(exposure_time[0])\n",
    "    exposure_number = i[0].header['NumExpos']\n",
    "    exposure_number = exposure_number.split(\" \")\n",
    "    exposure_numbers.append(exposure_number[0])\n",
    "    filter_name = i[0].header['FiltName']\n",
    "    filter_name = filter_name.split(\" \")\n",
    "    filter_names.append(filter_name[0])\n",
    "    try:\n",
    "        EM_gain = i[0].header['EMGAIN']\n",
    "        EM_gain = EM_gain.split(\" \")\n",
    "        EM_gains.append(EM_gain[0])\n",
    "    except KeyError:\n",
    "        EM_gains.append(\"\")\n",
    "    try:\n",
    "        EM_saturate = i[0].header['EMSAT']\n",
    "        EM_saturate = EM_saturate.split(\" \")\n",
    "        EM_saturates.append(EM_saturate[0])\n",
    "    except KeyError:\n",
    "        EM_saturates.append(\"\")\n",
    "    try:\n",
    "        full_well_depth = i[0].header['FullWell']\n",
    "        full_well_depth = full_well_depth.split(\" \")\n",
    "        full_well_depths.append(full_well_depth[0])\n",
    "    except KeyError:\n",
    "        full_well_depths.append(\"\")"
   ]
  },
  {
   "cell_type": "markdown",
   "id": "c8d930f7",
   "metadata": {},
   "source": [
    "# Combine Image Data"
   ]
  },
  {
   "cell_type": "code",
   "execution_count": 8,
   "id": "c7eabd4c",
   "metadata": {},
   "outputs": [
    {
     "name": "stdout",
     "output_type": "stream",
     "text": [
      "Combining Image Data for  Prime_BSI_Mag_5_Band_V\n",
      "Image Combining Complete\n"
     ]
    }
   ],
   "source": [
    "ims_out_as = []\n",
    "for i in fits_files:\n",
    "    print(\"Combining Image Data for \", i[0].header['Title'])\n",
    "    npix = int(np.sqrt(np.prod(i[1].data.shape)))\n",
    "    ims_out = []\n",
    "    for j in range(1, len(i)):\n",
    "        im = i[j].data\n",
    "        im_out = im.copy().reshape([npix,npix])\n",
    "        ims_out.append(np.array(im_out))\n",
    "    ims_out_as.append(np.array(ims_out))\n",
    "print(\"Image Combining Complete\")"
   ]
  },
  {
   "cell_type": "markdown",
   "id": "a37c64d1",
   "metadata": {},
   "source": [
    "# Image Processing"
   ]
  },
  {
   "cell_type": "code",
   "execution_count": 9,
   "id": "af70bf01",
   "metadata": {},
   "outputs": [
    {
     "name": "stdout",
     "output_type": "stream",
     "text": [
      "Processing Prime_BSI_Mag_5_Band_V\n",
      "Performing Image Preprocessing\n",
      "Taking Fourier Transform\n",
      "Taking Power Spectrum\n",
      "Performing Auto Correlation Function\n",
      "Prime_BSI_Mag_5_Band_V_Updated_Processing_Contrast_Curve_Data.csv written.\n",
      "\n",
      "Processing Complete\n"
     ]
    },
    {
     "name": "stderr",
     "output_type": "stream",
     "text": [
      "<ipython-input-9-4d94c2ccab99>:64: RuntimeWarning: invalid value encountered in sqrt\n",
      "  ACF_cc = -2.5 * np.log10((1. - np.sqrt(1. - (2 * (sigma * rad_ACF.std)) ** 2)) / (2 * (sigma * rad_ACF.std)))\n",
      "<ipython-input-9-4d94c2ccab99>:64: RuntimeWarning: invalid value encountered in true_divide\n",
      "  ACF_cc = -2.5 * np.log10((1. - np.sqrt(1. - (2 * (sigma * rad_ACF.std)) ** 2)) / (2 * (sigma * rad_ACF.std)))\n"
     ]
    }
   ],
   "source": [
    "## Image Processing\n",
    "# includes preprocessing, taking FTs, power spectra, and ACFs\n",
    "\n",
    "# Function Parameters - see processing.py for more detail\n",
    "# ims           - input image array\n",
    "# ims_ft        - input FT array\n",
    "# gsigma        - std deviation for the Gaussian kernel\n",
    "# subframe_size - final image size in pixels\n",
    "# HWHM          - half-wavelength at half maximum for supergaussian window\n",
    "# m             - order of supergaussian window\n",
    "# scaling       - determines radial cutoff (fcut) for PS\n",
    "ims_ps=[]\n",
    "FTs =[]\n",
    "PSs = []\n",
    "Av_PSs = []\n",
    "ACFs = []\n",
    "ACF_ccs = []\n",
    "ACF_xaxs = []\n",
    "spixs = []\n",
    "sigmas = []\n",
    "sg_hwhms = []\n",
    "sg_ms = []\n",
    "for i in range(len(fits_files)):\n",
    "    plate_scale = wavelengths[i] / (pupil_diameters[i] * qs[i]) * 206265.\n",
    "    \n",
    "    # setting subframe size to be 2.5x the seeing disk FWHM\n",
    "    spix = int(1.0 * (float(seeings[i])/plate_scale)) \n",
    "    spixs.append(spix)\n",
    "    \n",
    "    # setting gsigma to be 10% of the seeing disk FWHM\n",
    "    sigma = 0.1 * (float(seeings[i])/plate_scale)\n",
    "    sigmas.append(sigma)\n",
    "    \n",
    "    #setting the supergaussian HWHM to be 90% of spix HWHM\n",
    "    sg_hwhm = int(0.9 * (spix/2))\n",
    "    sg_hwhms.append(sg_hwhm)\n",
    "    \n",
    "    #order of supergaussian window , larger m --> wider window, too small--> blurring in FTs\n",
    "    sg_m = 4\n",
    "    sg_ms.append(sg_m)   \n",
    "    \n",
    "    print(\"Processing\", fits_files[i][0].header['Title'] )\n",
    "    print(\"Performing Image Preprocessing\")\n",
    "    ims_p = image_preprocessing(ims_out_as[i], sigma, spix)\n",
    "    #              parameters: (ims, gsigma, subframe_size)\n",
    "    ims_ps.append(ims_p)\n",
    "    \n",
    "    print(\"Taking Fourier Transform\")\n",
    "    FT = fourier_transform(ims_p, sg_hwhm, sg_m)\n",
    "    #              parameters: (ims, HWHM, m)\n",
    "    FTs.append(FT)\n",
    "    \n",
    "    print(\"Taking Power Spectrum\")\n",
    "    PS, Av_PS = power_spectrum(FT, qs[i], wavelengths[i], pupil_diameters[i], 1.)\n",
    "    #              parameters: (ims_ft, wavelength, pupil_diameter, scaling, HWHM, m)\n",
    "    PSs.append(PS)\n",
    "    Av_PSs.append(Av_PS)\n",
    "    \n",
    "    print(\"Performing Auto Correlation Function\")\n",
    "    ACF = generate_ACF(Av_PS)\n",
    "    #              parameters: (ims_ps)\n",
    "    ACFs.append(ACF)    \n",
    "    rad_ACF = radial_data(np.abs(ACFs[i]), annulus_width=2)\n",
    "    ACF_cc = -2.5 * np.log10((1. - np.sqrt(1. - (2 * (sigma * rad_ACF.std)) ** 2)) / (2 * (sigma * rad_ACF.std)))\n",
    "    ACF_ccs.append(ACF_cc)\n",
    "    ACF_xax = np.array(range(len(rad_ACF.mean))) * plate_scale # arcsec \n",
    "    ACF_xaxs.append(ACF_xax)\n",
    "    \n",
    "    data = np.column_stack([ACF_xaxs[i],ACF_ccs[i]])\n",
    "    csv_name = fits_files[i][0].header['Title']  + '_Contrast_Curve_Data.csv'\n",
    "    with open(csv_name, 'w', newline='') as csvfile:\n",
    "        writer = csv.writer(csvfile)\n",
    "        writer.writerows(data)\n",
    "    print(csv_name, \"written.\")\n",
    "    print()\n",
    "print(\"Processing Complete\")"
   ]
  },
  {
   "cell_type": "markdown",
   "id": "2e5c6c11",
   "metadata": {},
   "source": [
    "# Play Sound when Processing Complete"
   ]
  },
  {
   "cell_type": "code",
   "execution_count": 10,
   "id": "0bfde2cb",
   "metadata": {},
   "outputs": [
    {
     "data": {
      "text/html": [
       "\n",
       "                <audio  controls=\"controls\" autoplay=\"autoplay\">\n",
       "                    <source src=\"data:audio/wav;base64,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\" type=\"audio/wav\" />\n",
       "                    Your browser does not support the audio element.\n",
       "                </audio>\n",
       "              "
      ],
      "text/plain": [
       "<IPython.lib.display.Audio object>"
      ]
     },
     "execution_count": 10,
     "metadata": {},
     "output_type": "execute_result"
    }
   ],
   "source": [
    "framerate = 4410\n",
    "play_time_seconds = 1\n",
    "\n",
    "t = np.linspace(0, play_time_seconds, framerate*play_time_seconds)\n",
    "audio_data = np.sin(2*np.pi*590*t) + np.sin(2*np.pi*240*t)\n",
    "Audio(audio_data, rate=framerate, autoplay=True)"
   ]
  },
  {
   "cell_type": "markdown",
   "id": "35d053e4",
   "metadata": {},
   "source": [
    "# Generate Speckle Contrast Curve"
   ]
  },
  {
   "cell_type": "code",
   "execution_count": 11,
   "id": "88dc3402",
   "metadata": {
    "scrolled": false
   },
   "outputs": [
    {
     "data": {
      "text/plain": [
       "Text(0.5, 1.0, 'Viper_Speckle_Contrast_Mag_5_Band_I_02\\nPrimary Magnitude = 5.0, Exposure Time = 0.02, Number of Exposures = 100\\nSeeing = 1.75, Outer Scale = 40.0, Wind Velocity = 30.0')"
      ]
     },
     "execution_count": 11,
     "metadata": {},
     "output_type": "execute_result"
    },
    {
     "data": {
      "image/png": "[encoded data removed]",
      "text/plain": [
       "<Figure size 1080x864 with 2 Axes>"
      ]
     },
     "metadata": {
      "needs_background": "light"
     },
     "output_type": "display_data"
    }
   ],
   "source": [
    "fig, ax1 = plt.subplots(figsize=(15,12))\n",
    "for i in range(len(fits_files)):\n",
    "    label = fits_files[i][0].header['Title'] + \", FPS = \"+ fpss[i] + \", Read Noise = \" + read_noises[i] + \", Dark Current = \" + dark_currents[i] + \", Filter = \" + filter_names[i] + \", QE = \" + quantum_efficiencys[i]\n",
    "    if EM_gains[i]:\n",
    "        label = label + \"\\nEM Gain = \" + EM_gains[i] + \", EM Saturate = \" + EM_saturates[i] + \", Full Well Depths = \" + full_well_depths[i]\n",
    "    plt.plot(ACF_xaxs[i], ACF_ccs[i], label = label , lw=3)\n",
    "title = \"\\nPrimary Magnitude = \" + str(mags[0]) +  \", Exposure Time = \" + exposure_times[0] + \", Number of Exposures = \" + exposure_numbers[0] + \"\\nSeeing = \" + seeings[0] + \", Outer Scale = \" + outer_scales[0] + \", Wind Velocity = \" + velocitys[0]\n",
    "plt.xlim(0.0, 0.5)\n",
    "ax1.set_xlabel(r'Separation (arcsec)')\n",
    "ax1.set_ylabel(r'' + str(sigma) + ' $\\sigma$ Contrast (mag)') \n",
    "ax1.tick_params(axis='y')\n",
    "plt.gca().invert_yaxis()\n",
    "plt.legend(loc='lower left')\n",
    "ax2 = ax1.twinx() # second y-axis\n",
    "for i in range(len(fits_files)):\n",
    "    plt.plot(ACF_xaxs[i], 10**(0.4*ACF_ccs[i]) , lw=3)\n",
    "ax2.set_ylabel('Flux Ratio')  \n",
    "ax2.tick_params(axis='y')\n",
    "plt.gca().invert_yaxis()\n",
    "plt.yscale(\"log\") \n",
    "plt.title(saved_file_name + title)\n",
    "#plt.savefig(saved_file_name + \".jpg\", bbox_inches = 'tight',  dpi = 300)"
   ]
  },
  {
   "cell_type": "code",
   "execution_count": null,
   "id": "64574e00",
   "metadata": {},
   "outputs": [],
   "source": []
  }
 ],
 "metadata": {
  "kernelspec": {
   "display_name": "Python 3",
   "language": "python",
   "name": "python3"
  },
  "language_info": {
   "codemirror_mode": {
    "name": "ipython",
    "version": 3
   },
   "file_extension": ".py",
   "mimetype": "text/x-python",
   "name": "python",
   "nbconvert_exporter": "python",
   "pygments_lexer": "ipython3",
   "version": "3.8.10"
  }
 },
 "nbformat": 4,
 "nbformat_minor": 5
}
